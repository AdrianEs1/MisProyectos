{
 "cells": [
  {
   "cell_type": "markdown",
   "id": "fdd60e9a-9b6e-4670-8f28-93df88c93c9d",
   "metadata": {},
   "source": [
    "# Proyecto Final\n",
    "### Analisis de Datos\n",
    "### Modelo: Rregresión Logística\n",
    "\n",
    "### Estudiante: Adrian Esteban Armero Burbano\n",
    "\n",
    "El modelo seleccionado es el de Regresión logística ya que es ideal para el dataset Titanic porque permite predecir variables categóricas binarias, como si un pasajero sobrevivió o no. Este modelo estadístico es adecuado ya que las características del dataset, como la clase del boleto, el género, la edad y el número de familiares a bordo, son factores que pueden influir en la probabilidad de supervivencia. Además, la regresión logística calcula la probabilidad de cada posible resultado (sobrevivir o no), lo que facilita interpretar cómo cada variable afecta al desenlace, permitiendo un análisis claro y efectivo para este tipo de problemas de clasificación.\n",
    "\n",
    "\n",
    "Seleccionar uno de los modelos de Aprendizaje Supervisado vistos\n",
    "en la Tarea 3 (Regresión Lineal, Regresión Logística o Árboles de\n",
    "decisión) y realizar los siguientes pasos:\n",
    "1. Realizar un análisis exploratorio de los datos para identificar\n",
    "relaciones entre variables, valores atípicos, tendencias, etc.\n",
    "2. Preprocesar los datos limpiándolos, tratando valores faltantes y\n",
    "transformándolos según sea necesario.\n",
    "3. Seleccionar las características más relevantes para entrenar el\n",
    "modelo utilizando selección de características.\n",
    "4. Dividir el dataset en Train y Test para evaluar correctamente el\n",
    "modelo.\n",
    "5. Entrenar el modelo configurando los diferentes\n",
    "hiperparámetros.\n",
    "6. Evaluar el desempeño del modelo en el conjunto de Test con\n",
    "métricas como precisión, recall, F1-score, etc.\n",
    "7. Realizar las diferentes gráficas que permitan visualizar los\n",
    "resultados del modelo.\n",
    "8. Interpretar, analizar y documentar los resultados obtenidos\n"
   ]
  },
  {
   "cell_type": "code",
   "execution_count": 6,
   "id": "45a2491d-0ed1-4c1c-94ae-beb159c22d6e",
   "metadata": {},
   "outputs": [],
   "source": [
    "import pandas as pd # Importa la biblioteca pandas para la manipulación y análisis de datos\n",
    "import matplotlib.pyplot as plt # Biblioteca crear gráficos y visualizar datos.\n",
    "import seaborn as sns # para crear gráficos estadísticos\n",
    "from sklearn.preprocessing import RobustScaler #para escalar características y reducir el impacto de valores atípicos.\n",
    "# SelectKBest permite seleccionar las mejores características basadas en su puntuación.\n",
    "# f_classif utiliza la prueba ANOVA F para determinar la relevancia de las características.\n",
    "from sklearn.feature_selection import SelectKBest, f_classif\n",
    "from sklearn.linear_model import LogisticRegression #para implementar un modelo de clasificación basado en regresión logística.\n",
    "# train_test_split divide los datos en conjuntos de entrenamiento y prueba.\n",
    "# GridSearchCV realiza una búsqueda exhaustiva para encontrar los mejores hiperparámetros de un modelo.\n",
    "from sklearn.model_selection import train_test_split, GridSearchCV\n",
    "# accuracy_score: Calcula la precisión del modelo.\n",
    "# confusion_matrix: Genera la matriz de confusión.\n",
    "# roc_auc_score: Calcula el área bajo la curva ROC, útil para evaluar modelos de clasificación.\n",
    "# classification_report: Proporciona un resumen de las métricas como precisión, recall y F1-score.\n",
    "from sklearn.metrics import accuracy_score, confusion_matrix, roc_auc_score, classification_report\n",
    "from imblearn.over_sampling import SMOTE # para abordar problemas de datos desbalanceados generando ejemplos sintéticos en la clase minoritaria."
   ]
  },
  {
   "cell_type": "markdown",
   "id": "896dcaaa-e167-49f1-ad4a-d37b6477e820",
   "metadata": {},
   "source": [
    "## 1. Análisis Exploratorio de Datos"
   ]
  },
  {
   "cell_type": "code",
   "execution_count": 56,
   "id": "138e508e-e985-4e59-9182-cc13b20615a0",
   "metadata": {},
   "outputs": [],
   "source": [
    "#Cargar el dataset en un DataFrame\n",
    "data=pd.read_csv('Titanic-Dataset.csv')"
   ]
  },
  {
   "cell_type": "code",
   "execution_count": 10,
   "id": "b37849fa-5860-4416-95c1-f8afb64efe0f",
   "metadata": {},
   "outputs": [
    {
     "name": "stdout",
     "output_type": "stream",
     "text": [
      "    PassengerId  Survived  Pclass  \\\n",
      "0             1         0       3   \n",
      "1             2         1       1   \n",
      "2             3         1       3   \n",
      "3             4         1       1   \n",
      "4             5         0       3   \n",
      "5             6         0       3   \n",
      "6             7         0       1   \n",
      "7             8         0       3   \n",
      "8             9         1       3   \n",
      "9            10         1       2   \n",
      "10           11         1       3   \n",
      "11           12         1       1   \n",
      "12           13         0       3   \n",
      "13           14         0       3   \n",
      "14           15         0       3   \n",
      "\n",
      "                                                 Name     Sex   Age  SibSp  \\\n",
      "0                             Braund, Mr. Owen Harris    male  22.0      1   \n",
      "1   Cumings, Mrs. John Bradley (Florence Briggs Th...  female  38.0      1   \n",
      "2                              Heikkinen, Miss. Laina  female  26.0      0   \n",
      "3        Futrelle, Mrs. Jacques Heath (Lily May Peel)  female  35.0      1   \n",
      "4                            Allen, Mr. William Henry    male  35.0      0   \n",
      "5                                    Moran, Mr. James    male   NaN      0   \n",
      "6                             McCarthy, Mr. Timothy J    male  54.0      0   \n",
      "7                      Palsson, Master. Gosta Leonard    male   2.0      3   \n",
      "8   Johnson, Mrs. Oscar W (Elisabeth Vilhelmina Berg)  female  27.0      0   \n",
      "9                 Nasser, Mrs. Nicholas (Adele Achem)  female  14.0      1   \n",
      "10                    Sandstrom, Miss. Marguerite Rut  female   4.0      1   \n",
      "11                           Bonnell, Miss. Elizabeth  female  58.0      0   \n",
      "12                     Saundercock, Mr. William Henry    male  20.0      0   \n",
      "13                        Andersson, Mr. Anders Johan    male  39.0      1   \n",
      "14               Vestrom, Miss. Hulda Amanda Adolfina  female  14.0      0   \n",
      "\n",
      "    Parch            Ticket     Fare Cabin Embarked  \n",
      "0       0         A/5 21171   7.2500   NaN        S  \n",
      "1       0          PC 17599  71.2833   C85        C  \n",
      "2       0  STON/O2. 3101282   7.9250   NaN        S  \n",
      "3       0            113803  53.1000  C123        S  \n",
      "4       0            373450   8.0500   NaN        S  \n",
      "5       0            330877   8.4583   NaN        Q  \n",
      "6       0             17463  51.8625   E46        S  \n",
      "7       1            349909  21.0750   NaN        S  \n",
      "8       2            347742  11.1333   NaN        S  \n",
      "9       0            237736  30.0708   NaN        C  \n",
      "10      1           PP 9549  16.7000    G6        S  \n",
      "11      0            113783  26.5500  C103        S  \n",
      "12      0         A/5. 2151   8.0500   NaN        S  \n",
      "13      5            347082  31.2750   NaN        S  \n",
      "14      0            350406   7.8542   NaN        S  \n"
     ]
    }
   ],
   "source": [
    "#Obtener primeros 15 registros del dataset\n",
    "print(data.head(15))"
   ]
  },
  {
   "cell_type": "markdown",
   "id": "594fe54c-8835-4204-8fc2-e9ee0e0d2c81",
   "metadata": {},
   "source": [
    "## Columnas y Tipos de Datos"
   ]
  },
  {
   "cell_type": "code",
   "execution_count": 12,
   "id": "e00d048e-8a32-4cff-98da-6438b8fc9159",
   "metadata": {},
   "outputs": [
    {
     "name": "stdout",
     "output_type": "stream",
     "text": [
      "<class 'pandas.core.frame.DataFrame'>\n",
      "RangeIndex: 891 entries, 0 to 890\n",
      "Data columns (total 12 columns):\n",
      " #   Column       Non-Null Count  Dtype  \n",
      "---  ------       --------------  -----  \n",
      " 0   PassengerId  891 non-null    int64  \n",
      " 1   Survived     891 non-null    int64  \n",
      " 2   Pclass       891 non-null    int64  \n",
      " 3   Name         891 non-null    object \n",
      " 4   Sex          891 non-null    object \n",
      " 5   Age          714 non-null    float64\n",
      " 6   SibSp        891 non-null    int64  \n",
      " 7   Parch        891 non-null    int64  \n",
      " 8   Ticket       891 non-null    object \n",
      " 9   Fare         891 non-null    float64\n",
      " 10  Cabin        204 non-null    object \n",
      " 11  Embarked     889 non-null    object \n",
      "dtypes: float64(2), int64(5), object(5)\n",
      "memory usage: 83.7+ KB\n"
     ]
    }
   ],
   "source": [
    "#Verificar nombre y tipo de dato en las columnas\n",
    "data.info()"
   ]
  },
  {
   "cell_type": "code",
   "execution_count": 58,
   "id": "55ad981e-dd46-4530-94f1-2a3d4c311d77",
   "metadata": {},
   "outputs": [],
   "source": [
    "#Eliminar variables innecesarias\n",
    "data=data.drop(['Name', 'Ticket', 'Cabin'], axis=1)\n"
   ]
  },
  {
   "cell_type": "markdown",
   "id": "a454a0e7-a595-4d83-84c3-9fc4b586cf52",
   "metadata": {},
   "source": [
    "### Eliminar Variables\n",
    "Name: Aunque contiene información textual única, no contribuye directamente al modelo de predicción, ya que el nombre del pasajero no tiene una relación cuantificable con su supervivencia.\n",
    "\n",
    "Ticket: Es un dato nominal que varía mucho y no tiene un patrón útil para determinar la probabilidad de supervivencia. Además, su procesamiento para extraer información útil requeriría un esfuerzo adicional que probablemente no aporte beneficios significativos al modelo.\n",
    "\n",
    "Cabin: Esta columna tiene muchos valores nulos, lo que dificulta su uso en el modelo. Aunque podría dar una pista de la ubicación dentro del barco, la gran cantidad de datos faltantes hace que su impacto en el modelo sea limitado."
   ]
  },
  {
   "cell_type": "markdown",
   "id": "d111e8d5-f295-4ce2-8be0-4042c8a7a4d7",
   "metadata": {},
   "source": [
    "## Valores Atípicos"
   ]
  },
  {
   "cell_type": "code",
   "execution_count": 18,
   "id": "c11b4024-db91-4e1c-9137-6f24d4dae459",
   "metadata": {},
   "outputs": [
    {
     "data": {
      "image/png": "[encoded data removed]",
      "text/plain": [
       "<Figure size 1000x600 with 1 Axes>"
      ]
     },
     "metadata": {},
     "output_type": "display_data"
    }
   ],
   "source": [
    "#Visualizar valores atipicos\n",
    "plt.figure(figsize=(10, 6))\n",
    "sns.boxplot(data=data)\n",
    "plt.title('Boxplot para detectar outliers')\n",
    "plt.show()"
   ]
  },
  {
   "cell_type": "markdown",
   "id": "c5725764-dfe6-4d92-b041-31b57b0bd160",
   "metadata": {},
   "source": [
    "### Análisis Gráfico\n",
    "\n",
    "Se puede observar en el gráfico que las columnas Age, SibSp, Parch, y Fare, contienen valores atipicos"
   ]
  },
  {
   "cell_type": "code",
   "execution_count": 23,
   "id": "55e4761a-461b-4e8a-87e7-340e6a1e73c5",
   "metadata": {},
   "outputs": [
    {
     "data": {
      "image/png": "[encoded data removed]",
      "text/plain": [
       "<Figure size 1000x600 with 1 Axes>"
      ]
     },
     "metadata": {},
     "output_type": "display_data"
    }
   ],
   "source": [
    "plt.figure(figsize=(10, 6))\n",
    "sns.boxplot(data=data['Age'])\n",
    "plt.title('Boxplot para detectar outliers')\n",
    "plt.show()"
   ]
  },
  {
   "cell_type": "code",
   "execution_count": 27,
   "id": "ba2c59fa-39f2-4593-b6c7-9ce7b37401b7",
   "metadata": {},
   "outputs": [
    {
     "data": {
      "image/png": "[encoded data removed]",
      "text/plain": [
       "<Figure size 1000x600 with 1 Axes>"
      ]
     },
     "metadata": {},
     "output_type": "display_data"
    }
   ],
   "source": [
    "plt.figure(figsize=(10, 6))\n",
    "sns.boxplot(data=data['SibSp'])\n",
    "plt.title('Boxplot para detectar outliers')\n",
    "plt.show()"
   ]
  },
  {
   "cell_type": "code",
   "execution_count": 29,
   "id": "b50cb1db-7390-49e3-ba7e-a21e419952f6",
   "metadata": {},
   "outputs": [
    {
     "data": {
      "image/png": "[encoded data removed]",
      "text/plain": [
       "<Figure size 1000x600 with 1 Axes>"
      ]
     },
     "metadata": {},
     "output_type": "display_data"
    }
   ],
   "source": [
    "plt.figure(figsize=(10, 6))\n",
    "sns.boxplot(data=data['Parch'])\n",
    "plt.title('Boxplot para detectar outliers')\n",
    "plt.show()"
   ]
  },
  {
   "cell_type": "code",
   "execution_count": 31,
   "id": "d6d1074a-59bf-46dc-817f-a1eb65bbbf09",
   "metadata": {},
   "outputs": [
    {
     "data": {
      "image/png": "[encoded data removed]",
      "text/plain": [
       "<Figure size 1000x600 with 1 Axes>"
      ]
     },
     "metadata": {},
     "output_type": "display_data"
    }
   ],
   "source": [
    "plt.figure(figsize=(10, 6))\n",
    "sns.boxplot(data=data['Fare'])\n",
    "plt.title('Boxplot para detectar outliers')\n",
    "plt.show()"
   ]
  },
  {
   "cell_type": "markdown",
   "id": "e87a9553-642d-4f21-b3e9-e41c6036621a",
   "metadata": {},
   "source": [
    "## Tratar Valores Atípicos"
   ]
  },
  {
   "cell_type": "markdown",
   "id": "b3333763-78c6-4a43-8df9-d18703f46600",
   "metadata": {},
   "source": [
    "Teniendo en cuenta los graficos de las columnas Age, SibSp, Parch, y Fare se ha establecido el rango aproximado para filtrar el total de valores atípicos"
   ]
  },
  {
   "cell_type": "code",
   "execution_count": 35,
   "id": "042a2fc8-4e55-48be-950b-b31320ea6091",
   "metadata": {},
   "outputs": [],
   "source": [
    "#Diccionario con variables y rango para filtrar valores atipicos\n",
    "atipicVariables={'Age':[2, 65],\n",
    "                 'SibSp':[0, 2],\n",
    "                 'Parch':[0, 1],\n",
    "                 'Fare':[0, 75]}"
   ]
  },
  {
   "cell_type": "code",
   "execution_count": 37,
   "id": "87c205af-c628-48d0-af88-4ade8774c635",
   "metadata": {},
   "outputs": [
    {
     "name": "stdout",
     "output_type": "stream",
     "text": [
      "Total valores Atípicos en Age: 22\n",
      "Total valores Atípicos en Age después de tratar: 0\n",
      "Total valores Atípicos en SibSp: 46\n",
      "Total valores Atípicos en SibSp después de tratar: 0\n",
      "Total valores Atípicos en Parch: 95\n",
      "Total valores Atípicos en Parch después de tratar: 0\n",
      "Total valores Atípicos en Fare: 97\n",
      "Total valores Atípicos en Fare después de tratar: 0\n"
     ]
    },
    {
     "name": "stderr",
     "output_type": "stream",
     "text": [
      "/tmp/ipykernel_145/2378130037.py:8: FutureWarning: Setting an item of incompatible dtype is deprecated and will raise in a future error of pandas. Value '0.5230078563411896' has dtype incompatible with int64, please explicitly cast to a compatible dtype first.\n",
      "  data.loc[index, column] = mean\n",
      "/tmp/ipykernel_145/2378130037.py:8: FutureWarning: Setting an item of incompatible dtype is deprecated and will raise in a future error of pandas. Value '0.38159371492704824' has dtype incompatible with int64, please explicitly cast to a compatible dtype first.\n",
      "  data.loc[index, column] = mean\n"
     ]
    }
   ],
   "source": [
    "#Ciclo para imputar valores atipicos con la media\n",
    "for column, rango in atipicVariables.items():\n",
    "    outliers= data[(data[column] > rango[1]) | (data[column] < rango[0])].index\n",
    "    print(f\"Total valores Atípicos en {column}: {len(outliers)}\") \n",
    "\n",
    "    mean = data[column].mean()\n",
    "    for index in outliers:\n",
    "        data.loc[index, column] = mean\n",
    "\n",
    "    outliers= data[(data[column] > rango[1]) | (data[column] < rango[0])].index\n",
    "    print(f\"Total valores Atípicos en {column} después de tratar: {len(outliers)}\") "
   ]
  },
  {
   "cell_type": "markdown",
   "id": "a8231860-b895-440e-a3bf-d6306cbda89e",
   "metadata": {},
   "source": [
    "Podemos observar la cantidad de valores atípicos por cada columna, y como estos valores son tratados imputando la media, de igual forma se verifica que después de tratar, el valor de valores atípicos es cero"
   ]
  },
  {
   "cell_type": "markdown",
   "id": "8de41459-18a2-45ca-824a-aced9fd94722",
   "metadata": {},
   "source": [
    "## 2. Preprocesar Datos"
   ]
  },
  {
   "cell_type": "markdown",
   "id": "74eb849f-2e0c-4eda-8493-ac2dae1d677c",
   "metadata": {},
   "source": [
    "## Valores Nulos"
   ]
  },
  {
   "cell_type": "code",
   "execution_count": 40,
   "id": "3d8ddb10-7cfd-4a26-9d4f-bf0a0122882d",
   "metadata": {},
   "outputs": [
    {
     "name": "stdout",
     "output_type": "stream",
     "text": [
      "PassengerId      0\n",
      "Survived         0\n",
      "Pclass           0\n",
      "Sex              0\n",
      "Age            177\n",
      "SibSp            0\n",
      "Parch            0\n",
      "Fare             0\n",
      "Embarked         2\n",
      "dtype: int64\n"
     ]
    }
   ],
   "source": [
    "#Verficar valores nulos\n",
    "print(data.isnull().sum())"
   ]
  },
  {
   "cell_type": "markdown",
   "id": "9ca46672-f884-409c-a8fd-68ca380b3b55",
   "metadata": {},
   "source": [
    "## Tratar Valores Nulos"
   ]
  },
  {
   "cell_type": "code",
   "execution_count": 60,
   "id": "361dfebc-4744-4dd6-9c84-9f0c50c1f917",
   "metadata": {},
   "outputs": [
    {
     "name": "stdout",
     "output_type": "stream",
     "text": [
      "PassengerId    0\n",
      "Survived       0\n",
      "Pclass         0\n",
      "Age            0\n",
      "SibSp          0\n",
      "Parch          0\n",
      "Fare           0\n",
      "Sex_male       0\n",
      "Embarked_Q     0\n",
      "Embarked_S     0\n",
      "dtype: int64\n"
     ]
    }
   ],
   "source": [
    "#Imputar valores nulos\n",
    "data['Age'].fillna(data['Age'].mean(), inplace=True)\n",
    "data['Embarked'].fillna(data['Embarked'].mode()[0], inplace=True) \n",
    "\n",
    "#Modificar varible Categorica\n",
    "data = pd.get_dummies(data, columns=['Sex', 'Embarked'], drop_first=True)\n",
    "\n",
    "#Verficar valores nulos\n",
    "print(data.isnull().sum())\n",
    "#print(data.columns)"
   ]
  },
  {
   "cell_type": "markdown",
   "id": "abf30443-8e3f-483f-9d46-f151a4d4daa6",
   "metadata": {},
   "source": [
    "Primero se Imputan valores nulos con la media en Age, y con la moda en Embarked ya que esta columna es categórica, después utilizamos el metodo pd.get_dumies() para convertir variables categóricas en variables numericas binarias, lo que permite representar categorías como 0 y 1 haciendo que el modelo interprete correctamente estas variables"
   ]
  },
  {
   "cell_type": "markdown",
   "id": "6fadc655-c2ba-41ad-8e54-27b3d072f921",
   "metadata": {},
   "source": [
    "## 3. Seleccionar Mejores Características"
   ]
  },
  {
   "cell_type": "code",
   "execution_count": 63,
   "id": "c8347827-05ac-46ff-8a6b-30bdeb4c3580",
   "metadata": {},
   "outputs": [
    {
     "name": "stdout",
     "output_type": "stream",
     "text": [
      "Caracteristicas seleccionadas\n",
      "Index(['Pclass', 'Parch', 'Fare', 'Sex_male', 'Embarked_S'], dtype='object')\n"
     ]
    }
   ],
   "source": [
    "#Filtrar Variable Objetivo\n",
    "x= data.drop(columns=['Survived'])\n",
    "y= data['Survived']\n",
    "\n",
    "#Seleccionar mejores Características\n",
    "selector= SelectKBest(score_func=f_classif, k=5)\n",
    "x_new= selector.fit_transform(x, y)\n",
    "mask= selector.get_support()\n",
    "selected_features= x.columns[mask]\n",
    "print(\"Caracteristicas seleccionadas\")\n",
    "print(selected_features)"
   ]
  },
  {
   "cell_type": "markdown",
   "id": "d49e6755-fabc-4cb6-8667-543bc9cdab25",
   "metadata": {},
   "source": [
    "Se seleccionan las mejores características predictoras para el modelo utilizando SelectKBest con la función de puntaje ANOVA (f_classif). Esto evalúa la relación entre cada característica y la variable objetivo (Survived). De todas las columnas, se seleccionan las 5 más relevantes: 'Pclass', 'Parch', 'Fare', 'Sex_male', 'Embarked_S'. Estas características tienen mayor influencia en la predicción del modelo. Finalmente, se obtienen los nombres de las columnas seleccionadas usando get_support()"
   ]
  },
  {
   "cell_type": "markdown",
   "id": "7af7d81b-8c24-4ace-9937-85b0354f5eac",
   "metadata": {},
   "source": [
    "## 4. División del Dataset"
   ]
  },
  {
   "cell_type": "code",
   "execution_count": 65,
   "id": "f17a8c2e-1560-4c32-913e-798ff28577c1",
   "metadata": {},
   "outputs": [
    {
     "name": "stdout",
     "output_type": "stream",
     "text": [
      "Tamaño del conjunto de entrenamiento:  (712, 5) (712,)\n",
      "Tamaño del conjunto de prueba:  (179, 5) (179,)\n"
     ]
    }
   ],
   "source": [
    "#División de Conjuntos Test y Train\n",
    "x_train, x_test, y_train, y_test= train_test_split(x_new, y, test_size=0.2, random_state=42)\n",
    "print(\"Tamaño del conjunto de entrenamiento: \", x_train.shape, y_train.shape)\n",
    "print(\"Tamaño del conjunto de prueba: \", x_test.shape, y_test.shape)\n",
    "\n",
    "smote = SMOTE(random_state=42)\n",
    "x_train_resampled, y_train_resampled = smote.fit_resample(x_train, y_train)\n",
    "\n",
    "#Escalar Variables\n",
    "scaler = RobustScaler()\n",
    "X_train_scaled = scaler.fit_transform(x_train_resampled)\n",
    "X_test_scaled = scaler.transform(x_test)"
   ]
  },
  {
   "cell_type": "markdown",
   "id": "2852123a-c4de-414b-81df-1ebc2fe60033",
   "metadata": {},
   "source": [
    "## 5. Entrenar Modelo"
   ]
  },
  {
   "cell_type": "code",
   "execution_count": 71,
   "id": "53851340-6405-4d55-82f7-9ad93b84e87e",
   "metadata": {},
   "outputs": [],
   "source": [
    "#Crear Modelo Regresión logística\n",
    "model= LogisticRegression(max_iter=1000)\n",
    "\n",
    "#Seleccionar mejores hiperparametros\n",
    "param_grid= {\n",
    "    'penalty': ['l1', 'l2'],\n",
    "    'C': [0.01, 0.1, 1, 10, 100],\n",
    "    'solver': ['liblinear', 'saga'] \n",
    "}\n"
   ]
  },
  {
   "cell_type": "markdown",
   "id": "51d09acb-36b6-4854-91eb-adea3e23888e",
   "metadata": {},
   "source": [
    "En este código se crea un modelo de regresión logística con un máximo de 1000 iteraciones para asegurar que el modelo tenga tiempo suficiente para converger. Luego, se define un grid de hiperparámetros (param_grid) con diferentes opciones para la penalización (penalty), la regularización (C) y el método de optimización (solver). Esto permite probar diversas combinaciones y seleccionar los mejores hiperparámetros para optimizar el rendimiento del modelo."
   ]
  },
  {
   "cell_type": "markdown",
   "id": "3bf5429b-c5f2-4aff-82b3-8a913f6eb07b",
   "metadata": {},
   "source": [
    "## Mejores Hiperparametros"
   ]
  },
  {
   "cell_type": "code",
   "execution_count": 73,
   "id": "86d1e301-4cd0-404c-beda-f5d37bacc047",
   "metadata": {},
   "outputs": [
    {
     "name": "stdout",
     "output_type": "stream",
     "text": [
      "Mejores hiperparámetros:  {'C': 0.1, 'penalty': 'l2', 'solver': 'saga'}\n"
     ]
    }
   ],
   "source": [
    "grid_search = GridSearchCV(estimator=model, param_grid=param_grid, cv=5, scoring='accuracy')\n",
    "grid_search.fit(X_train_scaled, y_train_resampled)\n",
    "print(\"Mejores hiperparámetros: \", grid_search.best_params_)"
   ]
  },
  {
   "cell_type": "markdown",
   "id": "cfabba71-77d0-4cee-818f-a231e4a718a6",
   "metadata": {},
   "source": [
    "Se utiliza GridSearchCV para encontrar los mejores hiperparámetros para el modelo de regresión logística. Se realiza una búsqueda en un conjunto de parámetros (param_grid) utilizando validación cruzada de 5 pliegues (cv=5) y se evalúa el modelo según su precisión (scoring='accuracy'). Después de entrenar el modelo con los datos de entrenamiento escalados y remuestreados (X_train_scaled y y_train_resampled), se imprimen los mejores hiperparámetros encontrados: C=0.1, penalty='l2', y solver='saga'."
   ]
  },
  {
   "cell_type": "markdown",
   "id": "3a45745a-5300-4866-950b-28d686fc5c3f",
   "metadata": {},
   "source": [
    "## Entrenar el Modelo"
   ]
  },
  {
   "cell_type": "code",
   "execution_count": 75,
   "id": "635fa8d0-6333-49dc-9c5e-3f9b62dda552",
   "metadata": {},
   "outputs": [],
   "source": [
    "#Entrenar el modelo con mejore hiperparametros\n",
    "best_model = grid_search.best_estimator_\n",
    "y_pred = best_model.predict(X_test_scaled)"
   ]
  },
  {
   "cell_type": "markdown",
   "id": "fca001b4-3049-4be3-8336-176743fa6eb8",
   "metadata": {},
   "source": [
    "## 6. Evaluar Modelo "
   ]
  },
  {
   "cell_type": "code",
   "execution_count": 77,
   "id": "258a7f0c-d0d2-46a1-8aea-3ebe504f9e01",
   "metadata": {},
   "outputs": [
    {
     "name": "stdout",
     "output_type": "stream",
     "text": [
      "Precisión del modelo: 0.7597765363128491\n",
      "ROC AUC: 0.8595238095238095\n",
      "              precision    recall  f1-score   support\n",
      "\n",
      "           0       0.82      0.75      0.79       105\n",
      "           1       0.69      0.77      0.73        74\n",
      "\n",
      "    accuracy                           0.76       179\n",
      "   macro avg       0.75      0.76      0.76       179\n",
      "weighted avg       0.77      0.76      0.76       179\n",
      "\n"
     ]
    }
   ],
   "source": [
    "#Metricas para evaluar el modelo\n",
    "accuracy = accuracy_score(y_test, y_pred)\n",
    "roc_auc = roc_auc_score(y_test, best_model.predict_proba(X_test_scaled)[:, 1])\n",
    "report = classification_report(y_test, y_pred)\n",
    "\n",
    "#Resultados de las metricas\n",
    "print(f\"Precisión del modelo: {accuracy}\")\n",
    "print(f\"ROC AUC: {roc_auc}\")\n",
    "print(report)"
   ]
  },
  {
   "cell_type": "markdown",
   "id": "48ebf1af-c6fa-4d37-8667-1e9a2065b48d",
   "metadata": {},
   "source": [
    "## 7. Análisis de Resultados"
   ]
  },
  {
   "cell_type": "markdown",
   "id": "52d53bff-986a-499a-9140-bde3f60d6341",
   "metadata": {},
   "source": [
    "### 1. Precisión del modelo (Accuracy):\n",
    "   \n",
    "•\tResultado: 0.7597 (aproximadamente 76%).\n",
    "\n",
    "Análisis: El modelo tiene una tasa de precisión del 76%, lo que indica que, en promedio, el 76% de las predicciones realizadas por el modelo fueron correctas. Es un buen resultado, pero se puede tiene espacio para mejorar.\n",
    "\n",
    "### 2.  ROC AUC (Área bajo la curva ROC):\n",
    "\n",
    "•\tResultado: 0.8595 (aproximadamente 86%).\n",
    "\n",
    "Análisis: El ROC AUC mide la capacidad del modelo para discriminar entre las clases (en este caso, sobrevivientes y no sobrevivientes). Un valor de 0.86 indica un modelo muy competente en distinguir entre ambas clases. En general, un valor superior a 0.80 es considerado muy bueno.\n",
    "\n",
    "### 3. Comparación de Predicciónes\n",
    "Se muestra una comparación entre las predicciones del modelo y las etiquetas reales. Para cada clase, tenemos varias métricas de evaluación: precisión, recall y F1-score.\n",
    "Para la clase 0 (no sobrevivientes):\n",
    "\n",
    "•\tPrecisión: 0.82 (82%).\n",
    "\n",
    "Análisis: De todas las veces que el modelo predijo que alguien no sobreviviría (clase 0), un 82% de las veces fue correcto.\n",
    "\n",
    "•\tRecall: 0.75 (75%).\n",
    "\n",
    "Análisis: El modelo detectó correctamente el 75% de todas las personas que realmente no sobrevivieron. Aunque está bien, hay un 25% de casos no detectados (falsos negativos).\n",
    "\n",
    "•\tF1-Score: 0.79 (79%).\n",
    "\n",
    "Análisis: Es una medida equilibrada entre precisión y recall. Un 79% indica un buen balance entre detectar a los no sobrevivientes y no cometer errores al predecirlos.\n",
    "Para la clase 1 (sobrevivientes):\n",
    "\n",
    "•\tPrecisión: 0.69 (69%).\n",
    "\n",
    "Análisis: El modelo predijo correctamente que alguien sobreviviría un 69% de las veces. Este es un rendimiento algo menor en comparación con la clase 0, lo que indica que el modelo podría estar cometiendo más errores en esta clase.\n",
    "\n",
    "•\tRecall: 0.77 (77%).\n",
    "\n",
    "Análisis: El modelo fue capaz de identificar correctamente el 77% de las personas que sobrevivieron. Sin embargo, hay un 23% de falsos negativos, lo cual es algo a mejorar.\n",
    "\n",
    "•\tF1-Score: 0.73 (73%).\n",
    "\n",
    "Análisis: Este valor muestra que, aunque el modelo tiene un buen recall para esta clase, su precisión es más baja. La F1-Score de 73% indica que hay espacio para mejorar la predicción de los sobrevivientes.\n",
    "\n",
    "### 4. Promedio Macro y Ponderado:\n",
    "\n",
    "•\tMacro avg:\n",
    "\n",
    "Precisión: 0.75 (75%).\n",
    "\n",
    "Recall: 0.76 (76%).\n",
    "\n",
    "F1-Score: 0.76 (76%).\n",
    "\n",
    "Análisis: Estas métricas promedian las métricas individuales de cada clase sin tener en cuenta el tamaño de las clases. Muestra un buen equilibrio entre precisión, recall y F1-score en general.\n",
    "\n",
    "•\tWeighted avg:\n",
    "\n",
    "Precisión: 0.77 (77%).\n",
    "\n",
    "Recall: 0.76 (76%).\n",
    "\n",
    "F1-Score: 0.76 (76%).\n",
    "\n",
    "Análisis: Estas métricas ponderan por el número de muestras en cada clase, lo que da más importancia a la clase mayoritaria (en este caso, la clase 0). Estas métricas son bastante similares a las macro avg, lo que indica que no hay una gran desbalance entre las clases.\n",
    "\n",
    "### Conclusiones:\n",
    "\n",
    "•\tEl modelo tiene un buen rendimiento general con un 76% de precisión.\n",
    "\n",
    "•\tTiene un desempeño excelente en la clase 0 (no sobrevivientes), con una alta precisión (82%) y recall (75%).\n",
    "\n",
    "•\tPara la clase 1 (sobrevivientes), el modelo tiene un menor rendimiento (precisión 69%), pero un buen recall (77%).\n",
    "\n",
    "•\tEl valor de ROC AUC de 0.86 muestra que el modelo tiene una excelente capacidad para diferenciar entre las clases.\n"
   ]
  },
  {
   "cell_type": "code",
   "execution_count": null,
   "id": "57465807-22a7-48ac-99e4-cb5e2d64a765",
   "metadata": {},
   "outputs": [],
   "source": []
  }
 ],
 "metadata": {
  "kernelspec": {
   "display_name": "anaconda-2024.02-py310",
   "language": "python",
   "name": "conda-env-anaconda-2024.02-py310-py"
  },
  "language_info": {
   "codemirror_mode": {
    "name": "ipython",
    "version": 3
   },
   "file_extension": ".py",
   "mimetype": "text/x-python",
   "name": "python",
   "nbconvert_exporter": "python",
   "pygments_lexer": "ipython3",
   "version": "3.10.14"
  }
 },
 "nbformat": 4,
 "nbformat_minor": 5
}
