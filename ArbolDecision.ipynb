{
 "cells": [
  {
   "cell_type": "code",
   "execution_count": 34,
   "id": "acb29418-be67-4947-b0c7-5fdd239c483b",
   "metadata": {},
   "outputs": [],
   "source": [
    "#Importamos Librerias, funciones y metricas\n",
    "import pandas as pd\n",
    "import matplotlib.pyplot as plt\n",
    "import seaborn as sns\n",
    "from sklearn.feature_selection import SelectKBest, f_classif\n",
    "from sklearn.tree import DecisionTreeClassifier\n",
    "from sklearn.model_selection import train_test_split, GridSearchCV\n",
    "from sklearn.metrics import accuracy_score, confusion_matrix, roc_auc_score, classification_report\n",
    "from sklearn.preprocessing import RobustScaler\n",
    "from imblearn.over_sampling import SMOTE"
   ]
  },
  {
   "cell_type": "code",
   "execution_count": 44,
   "id": "1087f321-f8a1-46ff-bbc1-aa227a28276d",
   "metadata": {},
   "outputs": [],
   "source": [
    "data= pd.read_csv('winequality-red.csv')"
   ]
  },
  {
   "cell_type": "code",
   "execution_count": 6,
   "id": "f6758467-b87e-4e16-8f32-1f0a0436ba99",
   "metadata": {},
   "outputs": [
    {
     "name": "stdout",
     "output_type": "stream",
     "text": [
      "<class 'pandas.core.frame.DataFrame'>\n",
      "RangeIndex: 1599 entries, 0 to 1598\n",
      "Data columns (total 12 columns):\n",
      " #   Column                Non-Null Count  Dtype  \n",
      "---  ------                --------------  -----  \n",
      " 0   fixed acidity         1599 non-null   float64\n",
      " 1   volatile acidity      1599 non-null   float64\n",
      " 2   citric acid           1599 non-null   float64\n",
      " 3   residual sugar        1599 non-null   float64\n",
      " 4   chlorides             1599 non-null   float64\n",
      " 5   free sulfur dioxide   1599 non-null   float64\n",
      " 6   total sulfur dioxide  1599 non-null   float64\n",
      " 7   density               1599 non-null   float64\n",
      " 8   pH                    1599 non-null   float64\n",
      " 9   sulphates             1599 non-null   float64\n",
      " 10  alcohol               1599 non-null   float64\n",
      " 11  quality               1599 non-null   int64  \n",
      "dtypes: float64(11), int64(1)\n",
      "memory usage: 150.0 KB\n"
     ]
    }
   ],
   "source": [
    "data.info()"
   ]
  },
  {
   "cell_type": "markdown",
   "id": "aeccdd84-6cf9-440d-bda6-f7018ec5d270",
   "metadata": {},
   "source": [
    "## Verficar Valores Nulos"
   ]
  },
  {
   "cell_type": "code",
   "execution_count": 8,
   "id": "0f98a7c3-75ed-4d8d-9f4a-77cc184b4b57",
   "metadata": {},
   "outputs": [
    {
     "name": "stdout",
     "output_type": "stream",
     "text": [
      "fixed acidity           0\n",
      "volatile acidity        0\n",
      "citric acid             0\n",
      "residual sugar          0\n",
      "chlorides               0\n",
      "free sulfur dioxide     0\n",
      "total sulfur dioxide    0\n",
      "density                 0\n",
      "pH                      0\n",
      "sulphates               0\n",
      "alcohol                 0\n",
      "quality                 0\n",
      "dtype: int64\n"
     ]
    }
   ],
   "source": [
    "print(data.isnull().sum())"
   ]
  },
  {
   "cell_type": "markdown",
   "id": "474e13ce-8d87-4443-903c-6103a823af1c",
   "metadata": {},
   "source": [
    "## Observar algunos Datos"
   ]
  },
  {
   "cell_type": "code",
   "execution_count": 10,
   "id": "a5ba16b6-7a17-46cd-a0e4-b997de3918e5",
   "metadata": {},
   "outputs": [
    {
     "name": "stdout",
     "output_type": "stream",
     "text": [
      "    fixed acidity  volatile acidity  citric acid  residual sugar  chlorides  \\\n",
      "0             7.4             0.700         0.00             1.9      0.076   \n",
      "1             7.8             0.880         0.00             2.6      0.098   \n",
      "2             7.8             0.760         0.04             2.3      0.092   \n",
      "3            11.2             0.280         0.56             1.9      0.075   \n",
      "4             7.4             0.700         0.00             1.9      0.076   \n",
      "5             7.4             0.660         0.00             1.8      0.075   \n",
      "6             7.9             0.600         0.06             1.6      0.069   \n",
      "7             7.3             0.650         0.00             1.2      0.065   \n",
      "8             7.8             0.580         0.02             2.0      0.073   \n",
      "9             7.5             0.500         0.36             6.1      0.071   \n",
      "10            6.7             0.580         0.08             1.8      0.097   \n",
      "11            7.5             0.500         0.36             6.1      0.071   \n",
      "12            5.6             0.615         0.00             1.6      0.089   \n",
      "13            7.8             0.610         0.29             1.6      0.114   \n",
      "14            8.9             0.620         0.18             3.8      0.176   \n",
      "15            8.9             0.620         0.19             3.9      0.170   \n",
      "16            8.5             0.280         0.56             1.8      0.092   \n",
      "17            8.1             0.560         0.28             1.7      0.368   \n",
      "18            7.4             0.590         0.08             4.4      0.086   \n",
      "19            7.9             0.320         0.51             1.8      0.341   \n",
      "\n",
      "    free sulfur dioxide  total sulfur dioxide  density    pH  sulphates  \\\n",
      "0                  11.0                  34.0   0.9978  3.51       0.56   \n",
      "1                  25.0                  67.0   0.9968  3.20       0.68   \n",
      "2                  15.0                  54.0   0.9970  3.26       0.65   \n",
      "3                  17.0                  60.0   0.9980  3.16       0.58   \n",
      "4                  11.0                  34.0   0.9978  3.51       0.56   \n",
      "5                  13.0                  40.0   0.9978  3.51       0.56   \n",
      "6                  15.0                  59.0   0.9964  3.30       0.46   \n",
      "7                  15.0                  21.0   0.9946  3.39       0.47   \n",
      "8                   9.0                  18.0   0.9968  3.36       0.57   \n",
      "9                  17.0                 102.0   0.9978  3.35       0.80   \n",
      "10                 15.0                  65.0   0.9959  3.28       0.54   \n",
      "11                 17.0                 102.0   0.9978  3.35       0.80   \n",
      "12                 16.0                  59.0   0.9943  3.58       0.52   \n",
      "13                  9.0                  29.0   0.9974  3.26       1.56   \n",
      "14                 52.0                 145.0   0.9986  3.16       0.88   \n",
      "15                 51.0                 148.0   0.9986  3.17       0.93   \n",
      "16                 35.0                 103.0   0.9969  3.30       0.75   \n",
      "17                 16.0                  56.0   0.9968  3.11       1.28   \n",
      "18                  6.0                  29.0   0.9974  3.38       0.50   \n",
      "19                 17.0                  56.0   0.9969  3.04       1.08   \n",
      "\n",
      "    alcohol  quality  \n",
      "0       9.4        5  \n",
      "1       9.8        5  \n",
      "2       9.8        5  \n",
      "3       9.8        6  \n",
      "4       9.4        5  \n",
      "5       9.4        5  \n",
      "6       9.4        5  \n",
      "7      10.0        7  \n",
      "8       9.5        7  \n",
      "9      10.5        5  \n",
      "10      9.2        5  \n",
      "11     10.5        5  \n",
      "12      9.9        5  \n",
      "13      9.1        5  \n",
      "14      9.2        5  \n",
      "15      9.2        5  \n",
      "16     10.5        7  \n",
      "17      9.3        5  \n",
      "18      9.0        4  \n",
      "19      9.2        6  \n"
     ]
    }
   ],
   "source": [
    "print(data.head(20))"
   ]
  },
  {
   "cell_type": "markdown",
   "id": "d4a2f3ea-5435-49b2-844a-530ecfe8dacd",
   "metadata": {},
   "source": [
    "## Frecuencia Absoluta Variable Objetivo"
   ]
  },
  {
   "cell_type": "code",
   "execution_count": 12,
   "id": "a6adac8f-6ece-4889-a171-3cf708faf38f",
   "metadata": {},
   "outputs": [
    {
     "name": "stdout",
     "output_type": "stream",
     "text": [
      "quality\n",
      "5    681\n",
      "6    638\n",
      "7    199\n",
      "4     53\n",
      "8     18\n",
      "3     10\n",
      "Name: count, dtype: int64\n"
     ]
    }
   ],
   "source": [
    "frecuencias = data['quality'].value_counts()\n",
    "\n",
    "# Mostrar el resultado\n",
    "print(frecuencias)"
   ]
  },
  {
   "cell_type": "markdown",
   "id": "eda1bc16-a5d1-476e-9816-d80e45378c9b",
   "metadata": {},
   "source": [
    "## Verificar Valores Atípicos"
   ]
  },
  {
   "cell_type": "code",
   "execution_count": 14,
   "id": "6bb8786c-294b-4caa-b050-00ac3064a3d4",
   "metadata": {},
   "outputs": [
    {
     "data": {
      "image/png": "[encoded data removed]",
      "text/plain": [
       "<Figure size 1000x600 with 1 Axes>"
      ]
     },
     "metadata": {},
     "output_type": "display_data"
    }
   ],
   "source": [
    "plt.figure(figsize=(10, 6))\n",
    "#sns.boxplot(data=data.iloc[:, :1])\n",
    "sns.boxplot(data=data)\n",
    "plt.title('Boxplot de valores atípicos')\n",
    "plt.xlabel('Variable')\n",
    "plt.show()"
   ]
  },
  {
   "cell_type": "markdown",
   "id": "5a061188-9d1f-4c9b-a86f-c91415db375f",
   "metadata": {},
   "source": [
    "## Tratar Valores Atípicos"
   ]
  },
  {
   "cell_type": "code",
   "execution_count": 46,
   "id": "ebff071b-733f-40d5-bea0-92eb520f1930",
   "metadata": {},
   "outputs": [],
   "source": [
    "# Define los grupos de columnas y sus umbrales, omitiendo la variable objetivo 'quality'\n",
    "column_groups = {\n",
    "    'grupo1': ['fixed acidity', 'volatile acidity', 'total sulfur dioxide', 'residual sugar'],  # Primer grupo\n",
    "    'grupo2': ['citric acid', 'residual sugar', 'chlorides', 'free sulfur dioxide', 'density'],  # Segundo grupo\n",
    "    'grupo3': ['pH', 'sulphates', 'alcohol'],  # Tercer grupo\n",
    "    # 'grupo4': ['quality']  # Omite este grupo porque es la variable objetivo\n",
    "}\n",
    "\n",
    "# Define los umbrales para cada grupo\n",
    "thresholds = {\n",
    "    'grupo1': 1.2,\n",
    "    'grupo2': 2.3,\n",
    "    'grupo3': 2.8,\n",
    "    # No se necesita un umbral para la variable objetivo\n",
    "}\n",
    "\n",
    "# Llenamos valores atípicos con la media\n",
    "for group, columns in column_groups.items():\n",
    "    for column in columns:\n",
    "        # Calcula la media y la desviación estándar de la columna\n",
    "        mean = data[column].mean()\n",
    "        std_dev = data[column].std()\n",
    "        \n",
    "        # Calcular z-scores\n",
    "        z_score = (data[column] - mean) / std_dev\n",
    "        \n",
    "        # Establecer el umbral específico para el grupo\n",
    "        threshold = thresholds[group]\n",
    "        \n",
    "        # Identificar valores atípicos\n",
    "        outliers = data[(z_score > threshold) | (z_score < -threshold)].index\n",
    "        \n",
    "        # Imputar valores atípicos con la media\n",
    "        data.loc[outliers, column] = round(mean)\n"
   ]
  },
  {
   "cell_type": "code",
   "execution_count": 48,
   "id": "1a70b53f-b035-49d1-acab-0348472104cd",
   "metadata": {},
   "outputs": [
    {
     "data": {
      "image/png": "[encoded data removed]",
      "text/plain": [
       "<Figure size 1000x600 with 1 Axes>"
      ]
     },
     "metadata": {},
     "output_type": "display_data"
    }
   ],
   "source": [
    "# Observamos nuevamente los velores atipicos\n",
    "plt.figure(figsize=(10, 6))\n",
    "#sns.boxplot(data=data.iloc[:, :1])\n",
    "sns.boxplot(data=data)\n",
    "plt.title('Boxplot de valores atípicos')\n",
    "plt.xlabel('Variable')\n",
    "plt.show()"
   ]
  },
  {
   "cell_type": "code",
   "execution_count": 50,
   "id": "5bbffdd9-fc40-486a-9323-bb564a6c9467",
   "metadata": {},
   "outputs": [
    {
     "name": "stdout",
     "output_type": "stream",
     "text": [
      "fixed acidity           0\n",
      "volatile acidity        0\n",
      "citric acid             0\n",
      "residual sugar          0\n",
      "chlorides               0\n",
      "free sulfur dioxide     0\n",
      "total sulfur dioxide    0\n",
      "density                 0\n",
      "pH                      0\n",
      "sulphates               0\n",
      "alcohol                 0\n",
      "quality                 0\n",
      "dtype: int64\n"
     ]
    }
   ],
   "source": [
    "# Verificamos que no existan valores nulos\n",
    "# despues de tratar valores atipicos\n",
    "print(data.isnull().sum())"
   ]
  },
  {
   "cell_type": "markdown",
   "id": "29809ff4-d1b2-40a8-88b8-129714de7051",
   "metadata": {},
   "source": [
    "## Seleccionar Mejores Características"
   ]
  },
  {
   "cell_type": "code",
   "execution_count": 52,
   "id": "9335af6e-2c02-4bfb-bc54-12589800f35b",
   "metadata": {},
   "outputs": [
    {
     "name": "stdout",
     "output_type": "stream",
     "text": [
      "Caracteristicas seleccionadas\n",
      "Index(['volatile acidity', 'citric acid', 'total sulfur dioxide', 'sulphates',\n",
      "       'alcohol'],\n",
      "      dtype='object')\n"
     ]
    }
   ],
   "source": [
    "x = data.drop(columns=['quality'])\n",
    "y = data['quality']\n",
    "\n",
    "selector= SelectKBest(score_func=f_classif, k=5)\n",
    "x_new= selector.fit_transform(x, y)\n",
    "\n",
    "mask= selector.get_support()\n",
    "selected_features= x.columns[mask]\n",
    "\n",
    "print(\"Caracteristicas seleccionadas\")\n",
    "print(selected_features)"
   ]
  },
  {
   "cell_type": "markdown",
   "id": "171c3181-edcb-45cc-9969-78c58e77aab4",
   "metadata": {},
   "source": [
    "## Dividir el Dataset"
   ]
  },
  {
   "cell_type": "code",
   "execution_count": 54,
   "id": "38d665f3-8680-4734-b832-2dca0159b62c",
   "metadata": {},
   "outputs": [
    {
     "name": "stdout",
     "output_type": "stream",
     "text": [
      "Tamaño del conjunto de entrenamiento:  (1279, 5) (1279,)\n",
      "Tamaño del conjunto de prueba:  (320, 5) (320,)\n"
     ]
    }
   ],
   "source": [
    "# Dividimos el dataset en train y test\n",
    "x_train, x_test, y_train, y_test= train_test_split(x_new, y, test_size=0.2, random_state=42)\n",
    "\n",
    "print(\"Tamaño del conjunto de entrenamiento: \", x_train.shape, y_train.shape)\n",
    "print(\"Tamaño del conjunto de prueba: \", x_test.shape, y_test.shape)"
   ]
  },
  {
   "cell_type": "markdown",
   "id": "5be13dca-3b50-4d7f-89ee-3e0f20ac57d9",
   "metadata": {},
   "source": [
    "## Tratar Balanceo de Clases"
   ]
  },
  {
   "cell_type": "code",
   "execution_count": 56,
   "id": "2cbde76a-b1e6-41df-b78e-e1901b7cf4a5",
   "metadata": {},
   "outputs": [],
   "source": [
    "# Aplicamos SMOTE al conjunto de entrenamiento\n",
    "smote = SMOTE(random_state=42)\n",
    "x_train_res, y_train_res = smote.fit_resample(x_train, y_train)"
   ]
  },
  {
   "cell_type": "markdown",
   "id": "b4c9df7b-2e5a-4be2-859c-25ddf767276e",
   "metadata": {},
   "source": [
    "## Escalar Variables"
   ]
  },
  {
   "cell_type": "code",
   "execution_count": 58,
   "id": "a5c47225-e169-47b4-a32d-737c1fd8cde6",
   "metadata": {},
   "outputs": [],
   "source": [
    "# Escalamos las variables para un mejor ajuste\n",
    "scaler = RobustScaler()\n",
    "X_train_scaled = scaler.fit_transform(x_train)\n",
    "X_test_scaled = scaler.transform(x_test)"
   ]
  },
  {
   "cell_type": "markdown",
   "id": "bcd844be-a3fe-4314-ba71-d44760a74ec4",
   "metadata": {},
   "source": [
    "## Crear Modelo e Identificar Hiperparametros"
   ]
  },
  {
   "cell_type": "code",
   "execution_count": 60,
   "id": "6c630ea9-d991-4844-bbf3-6084ad1825f5",
   "metadata": {},
   "outputs": [
    {
     "name": "stdout",
     "output_type": "stream",
     "text": [
      "Mejores hiperparámetros:  {'criterion': 'entropy', 'max_depth': None, 'max_features': None, 'min_samples_leaf': 1, 'min_samples_split': 2}\n"
     ]
    }
   ],
   "source": [
    "model= DecisionTreeClassifier(random_state=42)\n",
    "\n",
    "param_grid = {\n",
    "    'criterion': ['gini', 'entropy'],\n",
    "    'max_depth': [3, 5, 7, None],\n",
    "    'min_samples_split': [2, 5, 10],\n",
    "    'min_samples_leaf': [1, 2, 5],\n",
    "    'max_features': ['sqrt', 'log2', None]\n",
    "}\n",
    "\n",
    "grid_search = GridSearchCV(estimator=model, param_grid=param_grid, cv=5, scoring='accuracy')\n",
    "# Entrenamos el modelo con dataos de entrenamiento\n",
    "grid_search.fit(X_train_scaled, y_train)\n",
    "\n",
    "print(\"Mejores hiperparámetros: \", grid_search.best_params_)"
   ]
  },
  {
   "cell_type": "markdown",
   "id": "72282a18-a56e-417d-ad32-a8b230138c44",
   "metadata": {},
   "source": [
    "## Verificar resultados con Metricas"
   ]
  },
  {
   "cell_type": "code",
   "execution_count": 61,
   "id": "85f28212-d217-4930-8f14-8b171cd93920",
   "metadata": {},
   "outputs": [
    {
     "name": "stdout",
     "output_type": "stream",
     "text": [
      "Precisión del modelo: 0.59375\n",
      "ROC AUC: 0.6045776486450487\n",
      "              precision    recall  f1-score   support\n",
      "\n",
      "           3       0.00      0.00      0.00         1\n",
      "           4       0.17      0.10      0.12        10\n",
      "           5       0.68      0.67      0.67       130\n",
      "           6       0.59      0.61      0.60       132\n",
      "           7       0.49      0.50      0.49        42\n",
      "           8       0.00      0.00      0.00         5\n",
      "\n",
      "    accuracy                           0.59       320\n",
      "   macro avg       0.32      0.31      0.32       320\n",
      "weighted avg       0.59      0.59      0.59       320\n",
      "\n"
     ]
    }
   ],
   "source": [
    "best_model = grid_search.best_estimator_\n",
    "y_pred = best_model.predict(X_test_scaled)\n",
    "\n",
    "accuracy = accuracy_score(y_test, y_pred)\n",
    "roc_auc = roc_auc_score(y_test, best_model.predict_proba(X_test_scaled), multi_class='ovr')\n",
    "report = classification_report(y_test, y_pred)\n",
    "\n",
    "# Observamos los resultados de las metricas\n",
    "print(f\"Precisión del modelo: {accuracy}\")\n",
    "print(f\"ROC AUC: {roc_auc}\")\n",
    "print(report)"
   ]
  },
  {
   "cell_type": "markdown",
   "id": "25f2b976-9552-4402-9adf-11acbca2cd59",
   "metadata": {},
   "source": [
    "# Analisis de Resultados\n",
    "\n",
    "## 1. Evaluación General del Modelo\n",
    "\n",
    "###    Precisión Global (accuracy): 0.59 (59%). \n",
    "Esto indica que el modelo clasifica correctamente aproximadamente el 59% de las muestras en el conjunto de prueba.\n",
    "###    ROC AUC: 0.60. \n",
    "Aunque esta métrica es baja, es normal dado el desequilibrio en las clases y la dificultad para predecir con precisión algunas de las clases minoritarias.\n",
    "\n",
    "Estos valores sugieren que el modelo tiene un desempeño moderado en general, pero enfrenta dificultades para manejar el desequilibrio en las clases.\n",
    "## 2. Análisis de las Métricas por Clase\n",
    "\n",
    "Las métricas de precisión, recall y F1-score por clase nos dan una idea de cómo el modelo maneja cada clase de calidad de vino:\n",
    "\n",
    "###    Clases con Desempeño Bajo:\n",
    "Clase 3 y Clase 8: Ambas tienen un recall y F1-score de 0. Esto indica que el modelo no logra identificar ninguna muestra correctamente en estas clases. Esto probablemente se deba a que hay muy pocas muestras para estas clases, lo que dificulta que el modelo aprenda patrones representativos.\n",
    "\n",
    "Clase 4: Tiene una precisión de 0.17 y un recall de 0.10, con un F1-score bajo de 0.12. Esto muestra que el modelo tiene dificultades para predecir correctamente esta clase, posiblemente también debido al bajo número de muestras (support de 10).\n",
    "\n",
    "###    Clases con Desempeño Moderado:\n",
    "Clase 5: Es la mejor predicha, con una precisión de 0.68 y un recall de 0.67, lo cual da un F1-score de 0.67. Esto es un buen indicador de que el modelo logra identificar esta clase de manera relativamente confiable. La mayor cantidad de datos (130 muestras) probablemente permite al modelo capturar mejor sus características.\n",
    "\n",
    "Clase 6 y Clase 7: Ambas tienen valores moderados, con precisión, recall y F1-scores alrededor de 0.49 a 0.61. Esto indica que el modelo logra predecir estas clases con un rendimiento aceptable, aunque no ideal.\n",
    "\n",
    "## 3. Promedios Macro y Ponderado\n",
    "\n",
    "###    Macro Avg:\n",
    "Tiene un F1-score de 0.32, lo que significa que, en promedio, el modelo tiene un rendimiento bajo en todas las clases si no se consideran las diferencias en la cantidad de muestras por clase. Este valor es bajo porque el modelo no puede predecir bien las clases minoritarias.\n",
    "\n",
    "###    Weighted Avg:\n",
    "El F1-score ponderado es 0.59, lo que sugiere un rendimiento razonable si se tienen en cuenta las clases mayoritarias. Este promedio refleja que el modelo se desempeña bien en las clases con más datos (como las clases 5, 6 y 7), pero sigue siendo afectado por las clases con pocos ejemplos."
   ]
  }
 ],
 "metadata": {
  "kernelspec": {
   "display_name": "anaconda-2024.02-py310",
   "language": "python",
   "name": "conda-env-anaconda-2024.02-py310-py"
  },
  "language_info": {
   "codemirror_mode": {
    "name": "ipython",
    "version": 3
   },
   "file_extension": ".py",
   "mimetype": "text/x-python",
   "name": "python",
   "nbconvert_exporter": "python",
   "pygments_lexer": "ipython3",
   "version": "3.10.14"
  }
 },
 "nbformat": 4,
 "nbformat_minor": 5
}
